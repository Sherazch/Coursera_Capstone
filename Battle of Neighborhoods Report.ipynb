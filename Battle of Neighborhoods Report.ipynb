{
    "cells": [
        {
            "metadata": {
                "collapsed": true
            },
            "cell_type": "markdown",
            "source": "# Battle of Neighborhoods Report"
        },
        {
            "metadata": {},
            "cell_type": "markdown",
            "source": "## Introduction\n\nThe purpose of this Project is to help people in exploring better facilities around their neighborhood. It will help people making smart and efficient decision on selecting great neighborhood out of numbers of other neighborhoods in Downtown Toronto, Toronto.\n\nLots of people are migrating to various states of Canada and needed lots of research for good housing prices and reputated schools for their children. This project is for those people who are looking for better neighborhoods. For ease of accessing to Cafe, School, Super market, medical shops, grocery shops, mall, theatre, hospital, like minded people, etc.\n\nThis Project aim to create an analysis of features for a people migrating to Downtown Toronto to search a best neighborhood as a comparative analysis between neighborhoods. The features include median housing price and better school according to ratings, crime rates of that particular area, road connectivity, weather conditions, good management for emergency, water resources both freash and waste water and excrement conveyed in sewers and recreational facilities.\n\nIt will help people to get awareness of the area and neighborhood before moving to a new city, state, country or place for their work or to start a new fresh life.\n\n#### Problem Statement\nThe major purpose of this project, is to suggest a better neighborhood in a new city for the person who are shiffting there. Social presence in society in terms of like minded people. Connectivity to the airport, bus stand, city center, markets and other daily needs things nearby.\n\nWe are providing the list of houses as per the housing prices and the list of schools in terms of location, fees, rating and reviews for the people who are moving there for the academic purposes.\n\n#### Audiance\nOur main audiance are the people who are planing to move to another place (in our project it's Downtown Toronto) for their better future or any other reason. People who wants to start a new business can also get help from our project as they can analyze which place would be better for their business.\n\n\n## Data Desription\n\nWe Will use Toronto Neighborhood dataset that we scrapped from wikipedia in Week 3. Dataset will be consisting of Borough, Neighborhood, latitude and longitude, zip codes.\n\nData Link: https://en.wikipedia.org/wiki/List_of_postal_codes_of_Canada:_M\n\nWe will need data about different venues in different neighborhoods of that specific borough. In order to gain that information we will use \"Foursquare\" locational information. Foursquare is a location data provider with information about all manner of venues and events within an area of interest. Such information includes venue names, locations, menus and even photos. As such, the foursquare location platform will be used as the sole data source since all the stated required information can be obtained through the API.\n\nAfter finding the list of neighborhoods, we then connect to the Foursquare API to gather information about venues inside each and every neighborhood. For each neighborhood, we have chosen the radius to be 100 meter.\n\nThe data retrieved from Foursquare contained information of venues within a specified distance of the longitude and latitude of the postcodes. The information obtained per venue as follows:\n\n1. Neighborhood\n2. Neighborhood Latitude\n3. Neighborhood Longitude\n4. Venue\n5. Name of the venue e.g. the name of a store or restaurant\n6. Venue Latitude\n7. Venue Longitude\n8. Venue Category\n\n\n## Methodology\n\nToronto Downtown is a popular destination for new immigrants in Canada to reside. As a result, it is one of the most diverse and multicultural areas in the Greater Toronto Area, being home to various religious groups and places of worship. Although immigration has become a hot topic over the past few years with more governments seeking more restrictions on immigrants and refugees, the general trend of immigration into Canada has been one of on the rise.\n\nThis project would use Four-square API as its prime data gathering source as it has a database of millions of places, especially their places API which provides the ability to perform location search, location sharing and details about a business. Using credentials of Foursquare API features of near-by places of the neighborhoods would be mined. Due to http request limitations the number of places per neighborhood parameter would reasonably be set to 100 and the radius parameter would be set to 500.\n\nTo compare the similarities of two cities, we decided to explore neighborhoods, segment them, and group them into clusters to find similar neighborhoods in a big city like New York and Toronto. To be able to do that, we need to cluster data which is a form of unsupervised machine learning: k-means clustering algorithm\n\nWe are using the following libararies to implementthe purposed solution:\n\nPandas: For creating and manipulating dataframes.\n\nFolium: Python visualization library would be used to visualize the neighborhoods cluster distribution of using interactive leaflet map.\n\nScikit Learn: For importing k-means clustering.\n\nJSON: Library to handle JSON files.\n\nXML: To separate data from presentation and XML stores data in plain text format.\n\nGeocoder: To retrieve Location Data.\n\nBeautiful Soup and Requests: To scrap and library to handle http requests.\n\nMatplotlib: Python Plotting Module.\n\n## Results\n\nAs a result of implementation of our proposed solution, we found out that the average housing price around the toronto downtown is 335430.10 USD, and the highest price is 589900.00 USD, and lowest is 165000.00 USD. And for the best schools finding, we have found out that the average school rating arounf the toronto downtown neighborhood is 6.1 on the scale of 1 to 10, with 8 schools having 10 rating. Our finding will be really helpful for the people planning to move to toronto downtown or its neighborhoods.\n"
        },
        {
            "metadata": {},
            "cell_type": "markdown",
            "source": "\n## Discussion\n\nDuring the analysis of the data, it was interesting to see that there are no million dollar houses around in the neighborhoods which tells us that the sizes of the houses would not be that big that more than one family can live togather. This also tells us that for the people who want to live on rent will not have difficulty because the rent will not be sky high. I have noticed that we can find out more useful information if we use bigger data, but I think this project will be a good prototype for a bigger and similar projects.\n\n## Conclusion\n\nUsing k-means clustering algorithm I've separated the neighborhood into 10(Ten) different clusters and for 103 different lattitude and logitude from dataset, which have very-similar neighborhoods around them. Using the charts above results presented to a particular neighborhood based on average house prices and school rating have been made.\n\nI feel rewarded with the efforts and believe this course with all the topics covered is well worthy of appreciation. This project has shown me a practical application to resolve a real situation that has impacting personal and financial impact using Data Science tools. The mapping with Folium is a very powerful technique to consolidate information and make the analysis and decision better with confidence.\n\n#### Future Works:\nThis project can be continued for making it more precise in terms to find best house in Downtown Toronto. Best means on the basis of all required things(daily needs or things we need to live a better life) around and also in terms of cost effective."
        },
        {
            "metadata": {},
            "cell_type": "markdown",
            "source": "#### Link to the full project code is below:\nhttps://github.com/Sherazch/Coursera_Capstone/blob/master/Battle%20of%20Neighborhoods%20Code.ipynb"
        },
        {
            "metadata": {},
            "cell_type": "markdown",
            "source": "### Link to the presentation is below:\nhttps://github.com/Sherazch/Coursera_Capstone/blob/master/Battle%20of%20Neighborhoods.pptx\n\nNOTE: You will have yo download the presentation to view it as the file size is big"
        },
        {
            "metadata": {},
            "cell_type": "code",
            "source": "",
            "execution_count": null,
            "outputs": []
        }
    ],
    "metadata": {
        "kernelspec": {
            "name": "python3",
            "display_name": "Python 3.7",
            "language": "python"
        },
        "language_info": {
            "name": "python",
            "version": "3.7.9",
            "mimetype": "text/x-python",
            "codemirror_mode": {
                "name": "ipython",
                "version": 3
            },
            "pygments_lexer": "ipython3",
            "nbconvert_exporter": "python",
            "file_extension": ".py"
        }
    },
    "nbformat": 4,
    "nbformat_minor": 1
}